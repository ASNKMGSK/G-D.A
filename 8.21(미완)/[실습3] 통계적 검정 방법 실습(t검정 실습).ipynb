{
 "cells": [
  {
   "cell_type": "markdown",
   "id": "4ac4bf12",
   "metadata": {},
   "source": [
    "# t검정 실습"
   ]
  },
  {
   "cell_type": "code",
   "execution_count": 4,
   "id": "1d5ee39d",
   "metadata": {},
   "outputs": [],
   "source": [
    "# 패키지 임포트\n",
    "import os\n",
    "import warnings\n",
    "warnings.simplefilter (action='ignore', category=FutureWarning) # FutureWarning 제거\n",
    "\n",
    "import pandas as pd # pandas package\n",
    "import numpy as np #numpy package\n",
    "import math\n",
    "from scipy import stats # Scipy Package\n",
    "# 시각화 패키지\n",
    "import matplotlib.pyplot as plt # matplotlib A\n",
    "import seaborn as sns\n",
    "%matplotlib inline\n",
    "# os에 따른 Font 깨짐 제거를 위해 Font 지정\n",
    "import os\n",
    "if os.name == 'nt' : # Windows OS\n",
    "    font_family= \"Malgun Gothic\"\n",
    "else: # MAC OS\n",
    "    font_family= \"AppleGothic\"\n",
    "# - 값이 깨지는 문제 해결을 위해 파라미터값 설정\n",
    "sns.set(font = font_family, rc = {\"axes.unicode_minus\" : False})"
   ]
  },
  {
   "cell_type": "markdown",
   "id": "944dc513",
   "metadata": {},
   "source": [
    "## 대응표본 t-검정 (paired sample t-test)\n",
    "-stats.ttest_rel(before_data, after_data)\n",
    "\n",
    "\\*증명하고자 하는 가설   \n",
    "&nbsp;&nbsp;&nbsp;\\-10명의 환자를 대상으로 비타민을 복용하기 전과 후의 수면시간을 측정하여   \n",
    "&nbsp;&nbsp;&nbsp;비타민의 효과가 있는지를 판단하고자 한다. 표본이 정규성을 만족한다는 가정하에 수면시간의 차이가 줄어 들었는지 검정   \n",
    "&nbsp;&nbsp;&nbsp;(유의수준:0.05)   \n",
    "&nbsp;&nbsp;&nbsp;\\-귀무가설:수면영양제를 복용하기 전과 후의 평균 수면시간에는 차이가 없다.(D=0)   \n",
    "&nbsp;&nbsp;&nbsp;\\-대립가설:수면영양제를 복용하기 전과 후의 평균 수면시간 차이는 0보다 작다.(D<0)   "
   ]
  },
  {
   "cell_type": "code",
   "execution_count": 5,
   "id": "2ebfb813",
   "metadata": {},
   "outputs": [],
   "source": [
    "# 검정 데이터 관측치\n",
    "before_data = [7,3, 4, 5, 2, 1,6,6,5,4]\n",
    "after_data = [8,4,5,6,2,3,6,8,6,5]\n",
    "check = ['before', 'after']\n",
    "# 데이터프레임 merge\n",
    "check = [check[j] for j in range(2) for i in range(10)]\n",
    "data = pd.DataFrame({'when':check, 'score':before_data+after_data})"
   ]
  },
  {
   "cell_type": "code",
   "execution_count": 7,
   "id": "92ab5b3c",
   "metadata": {},
   "outputs": [
    {
     "data": {
      "text/html": [
       "<div>\n",
       "<style scoped>\n",
       "    .dataframe tbody tr th:only-of-type {\n",
       "        vertical-align: middle;\n",
       "    }\n",
       "\n",
       "    .dataframe tbody tr th {\n",
       "        vertical-align: top;\n",
       "    }\n",
       "\n",
       "    .dataframe thead th {\n",
       "        text-align: right;\n",
       "    }\n",
       "</style>\n",
       "<table border=\"1\" class=\"dataframe\">\n",
       "  <thead>\n",
       "    <tr style=\"text-align: right;\">\n",
       "      <th></th>\n",
       "      <th>when</th>\n",
       "      <th>score</th>\n",
       "    </tr>\n",
       "  </thead>\n",
       "  <tbody>\n",
       "    <tr>\n",
       "      <th>0</th>\n",
       "      <td>before</td>\n",
       "      <td>7</td>\n",
       "    </tr>\n",
       "    <tr>\n",
       "      <th>1</th>\n",
       "      <td>before</td>\n",
       "      <td>3</td>\n",
       "    </tr>\n",
       "    <tr>\n",
       "      <th>2</th>\n",
       "      <td>before</td>\n",
       "      <td>4</td>\n",
       "    </tr>\n",
       "    <tr>\n",
       "      <th>3</th>\n",
       "      <td>before</td>\n",
       "      <td>5</td>\n",
       "    </tr>\n",
       "    <tr>\n",
       "      <th>4</th>\n",
       "      <td>before</td>\n",
       "      <td>2</td>\n",
       "    </tr>\n",
       "  </tbody>\n",
       "</table>\n",
       "</div>"
      ],
      "text/plain": [
       "     when  score\n",
       "0  before      7\n",
       "1  before      3\n",
       "2  before      4\n",
       "3  before      5\n",
       "4  before      2"
      ]
     },
     "execution_count": 7,
     "metadata": {},
     "output_type": "execute_result"
    }
   ],
   "source": [
    "data.head()"
   ]
  },
  {
   "cell_type": "code",
   "execution_count": 11,
   "id": "1aa3bd10",
   "metadata": {},
   "outputs": [
    {
     "name": "stdout",
     "output_type": "stream",
     "text": [
      "ShapiroResult(statistic=0.9644594192504883, pvalue=0.8352694511413574)\n",
      "ShapiroResult(statistic=0.9456835985183716, pvalue=0.6177982091903687)\n"
     ]
    }
   ],
   "source": [
    "# 정규성 검정 : 자료의 모집단 분포는 정규분포를 따름\n",
    "from scipy.stats import shapiro\n",
    "\n",
    "normal_before = shapiro(before_data)\n",
    "normal_after = shapiro(after_data)\n",
    "\n",
    "print(normal_before)\n",
    "print(normal_after)\n",
    "\n",
    "# p-value모두 0.05보다 크기 때문에 정규성 만족"
   ]
  },
  {
   "cell_type": "code",
   "execution_count": 14,
   "id": "9fb97039",
   "metadata": {},
   "outputs": [
    {
     "name": "stdout",
     "output_type": "stream",
     "text": [
      "LeveneResult(statistic=0.0, pvalue=1.0)\n",
      "BartlettResult(statistic=0.007785808167159078, pvalue=0.9296881301038368)\n"
     ]
    }
   ],
   "source": [
    "# 등분산성 검정 : 모든 집단의 모분산은 동일함\n",
    "from scipy.stats import levene\n",
    "print(levene(before_data, after_data))\n",
    "\n",
    "from scipy.stats import bartlett\n",
    "print(bartlett(before_data, after_data))\n",
    "\n",
    "# p-value 가 0.05보다 커서 등분산성 만족"
   ]
  },
  {
   "cell_type": "code",
   "execution_count": 15,
   "id": "f29bd0d1",
   "metadata": {},
   "outputs": [],
   "source": [
    "# 대응표본 t검정 수행\n",
    "paired_result = stats.ttest_rel(before_data, after_data)"
   ]
  },
  {
   "cell_type": "code",
   "execution_count": 17,
   "id": "dd8f3cd9",
   "metadata": {},
   "outputs": [
    {
     "name": "stdout",
     "output_type": "stream",
     "text": [
      "t검정 통계량 = -4.743, pvalue= 0.001\n"
     ]
    }
   ],
   "source": [
    "print('t검정 통계량 = %.3f, pvalue= %.3f'%paired_result)"
   ]
  },
  {
   "cell_type": "markdown",
   "id": "832265c8",
   "metadata": {},
   "source": [
    "#### 결론\n",
    "- 대응표본 t검정 수행 결과, 검정 통계량t값은 -4.743, 유의확률(P-value)은 0.001\n",
    "- P-value 검정 : 0.05(유의수준) > 0.001(p-value), 귀무가설 기각\n",
    "- 수면영양제를 복용하기 전과 후의 평균 수면시간 차이는 통계적으로 유의하며, 영양제를 복용한 후 수면시간이 줄었다는 결론을 내릴 수 있음"
   ]
  },
  {
   "cell_type": "markdown",
   "id": "d163bf77",
   "metadata": {},
   "source": [
    "## 독립표본 t-검정 (Independent Sample t-Test)\n",
    "- 등분산성 만족 : stats.ttest_ind(x, y, equal_var = Ture)\n",
    "- 등분산성 불만족 : stats.ttest_ind(x, y, equal_var = False)\n",
    "\n",
    "\\* 증명하고자 하는 가설\n",
    "&nbsp;&nbsp;&nbsp;\\- 서울과 구미, 두 지역의 겨울 낮 최고기온에 차이가 있는지를 알아보기 위해   \n",
    "&nbsp;&nbsp;&nbsp;12일동안 두 지역의 낮 최고기온을 측정한 데이터로 독립표본 t검정을 수행해본다(표본이 정규성을 만족한다는 가정, 양측검정 수행)   \n",
    "&nbsp;&nbsp;&nbsp;\\- 귀무가설 : a, b 두 지역에 따른 겨울 낮 최고기온은 차이가 없다.   \n",
    "&nbsp;&nbsp;&nbsp;\\- 대립가설 : a, b 두 지역에 따른 겨울 낮 최고기온은 차이가 있다."
   ]
  },
  {
   "cell_type": "code",
   "execution_count": 18,
   "id": "30887912",
   "metadata": {},
   "outputs": [],
   "source": [
    "# 데이터프레임\n",
    "seoul = [-1,0,3,4,1,3,3,1,1,3,2,4]\n",
    "daegu = [6,6,8,8,11,11,10,8,8,9,7,10]\n",
    "region = ['seoul']*12 + ['daegu']*12\n",
    "data = pd.DataFrame({'regione':region, 'temp':seoul+daegu})"
   ]
  },
  {
   "cell_type": "code",
   "execution_count": 19,
   "id": "08a46dff",
   "metadata": {},
   "outputs": [
    {
     "data": {
      "text/html": [
       "<div>\n",
       "<style scoped>\n",
       "    .dataframe tbody tr th:only-of-type {\n",
       "        vertical-align: middle;\n",
       "    }\n",
       "\n",
       "    .dataframe tbody tr th {\n",
       "        vertical-align: top;\n",
       "    }\n",
       "\n",
       "    .dataframe thead th {\n",
       "        text-align: right;\n",
       "    }\n",
       "</style>\n",
       "<table border=\"1\" class=\"dataframe\">\n",
       "  <thead>\n",
       "    <tr style=\"text-align: right;\">\n",
       "      <th></th>\n",
       "      <th>regione</th>\n",
       "      <th>temp</th>\n",
       "    </tr>\n",
       "  </thead>\n",
       "  <tbody>\n",
       "    <tr>\n",
       "      <th>0</th>\n",
       "      <td>seoul</td>\n",
       "      <td>-1</td>\n",
       "    </tr>\n",
       "    <tr>\n",
       "      <th>1</th>\n",
       "      <td>seoul</td>\n",
       "      <td>0</td>\n",
       "    </tr>\n",
       "    <tr>\n",
       "      <th>2</th>\n",
       "      <td>seoul</td>\n",
       "      <td>3</td>\n",
       "    </tr>\n",
       "    <tr>\n",
       "      <th>3</th>\n",
       "      <td>seoul</td>\n",
       "      <td>4</td>\n",
       "    </tr>\n",
       "    <tr>\n",
       "      <th>4</th>\n",
       "      <td>seoul</td>\n",
       "      <td>1</td>\n",
       "    </tr>\n",
       "  </tbody>\n",
       "</table>\n",
       "</div>"
      ],
      "text/plain": [
       "  regione  temp\n",
       "0   seoul    -1\n",
       "1   seoul     0\n",
       "2   seoul     3\n",
       "3   seoul     4\n",
       "4   seoul     1"
      ]
     },
     "execution_count": 19,
     "metadata": {},
     "output_type": "execute_result"
    }
   ],
   "source": [
    "data.head()"
   ]
  },
  {
   "cell_type": "code",
   "execution_count": 20,
   "id": "7e393a3c",
   "metadata": {},
   "outputs": [
    {
     "name": "stdout",
     "output_type": "stream",
     "text": [
      "ShapiroResult(statistic=0.9178412556648254, pvalue=0.2685365378856659)\n",
      "ShapiroResult(statistic=0.9212772846221924, pvalue=0.2966691553592682)\n"
     ]
    }
   ],
   "source": [
    "## 정규성 검정 : 자료의 모집단 분포는 정규분포를 따름\n",
    "normal_seoul = shapiro(seoul)\n",
    "normaldaegu = shapiro(daegu)\n",
    "print(normal_seoul)\n",
    "print(normaldaegu)\n",
    "\n",
    "# 결과 : p-value > 0.05, 정규성을 만족"
   ]
  },
  {
   "cell_type": "code",
   "execution_count": 22,
   "id": "33b01670",
   "metadata": {},
   "outputs": [
    {
     "name": "stdout",
     "output_type": "stream",
     "text": [
      "LeveneResult(statistic=0.0, pvalue=1.0)\n",
      "BartlettResult(statistic=0.07093015354702552, pvalue=0.7899872613272646)\n"
     ]
    }
   ],
   "source": [
    "## 등분산성 검정 : 모든 집단의 모분산은 동일함\n",
    "\n",
    "# levene 등분산성 검정\n",
    "print(levene(seoul, daegu))\n",
    "\n",
    "# bartlett 등분산성 검정\n",
    "print(bartlett(seoul, daegu))\n",
    "\n",
    "# 결과 : p-value > 0.05, 등분산성 만족"
   ]
  },
  {
   "cell_type": "code",
   "execution_count": 25,
   "id": "8c52164c",
   "metadata": {},
   "outputs": [
    {
     "name": "stdout",
     "output_type": "stream",
     "text": [
      "t검정 통계량 : -9.562, pvalue=0.000000002711180\n"
     ]
    }
   ],
   "source": [
    "# 독립표본 t검정\n",
    "ttests_result = stats.ttest_ind(seoul, daegu, equal_var = True) # 등분산성 만족\n",
    "print(\"t검정 통계량 : %.3f, pvalue=%.15f\"%(ttests_result))"
   ]
  },
  {
   "cell_type": "markdown",
   "id": "9e92bae5",
   "metadata": {},
   "source": [
    "#### 결론\n",
    "- 독립표본 t검정 수행결과, 검정 통계량t값은 -9.562, 유의확률(P-value)은 0.000000002711180   \n",
    "- P-value 검정 : 0.05(유의수준) > 0.000000002711180(p-value), 귀무가설 기각   \n",
    "- 서울과 구미, 두 지역의 겨울 낮 최고기온에는 통계적으로 유의한 차이가 존재한다는 결론을 내릴 수 있음   "
   ]
  }
 ],
 "metadata": {
  "kernelspec": {
   "display_name": "AI",
   "language": "python",
   "name": "ai"
  },
  "language_info": {
   "codemirror_mode": {
    "name": "ipython",
    "version": 3
   },
   "file_extension": ".py",
   "mimetype": "text/x-python",
   "name": "python",
   "nbconvert_exporter": "python",
   "pygments_lexer": "ipython3",
   "version": "3.9.7"
  }
 },
 "nbformat": 4,
 "nbformat_minor": 5
}
