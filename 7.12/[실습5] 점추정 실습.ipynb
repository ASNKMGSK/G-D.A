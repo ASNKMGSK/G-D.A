{
 "cells": [
  {
   "cell_type": "markdown",
   "id": "354b26c5",
   "metadata": {},
   "source": [
    "# [실습5] 점추정 실습"
   ]
  },
  {
   "cell_type": "code",
   "execution_count": 1,
   "id": "f491c3ff",
   "metadata": {},
   "outputs": [],
   "source": [
    "# 패키지 임포트\n",
    "import os\n",
    "import warnings\n",
    "\n",
    "warnings.simplefilter(action='ignore', category=FutureWarning)\n",
    "\n",
    "import pandas as pd\n",
    "import numpy as np\n",
    "import math\n",
    "\n",
    "# 시각화 패키지\n",
    "import matplotlib.pyplot as plt\n",
    "import seaborn as sns\n",
    "%matplotlib inline\n",
    "\n",
    "from scipy import stats\n",
    "\n",
    "# os에 따른 Font 깨짐 제거를 위해 Font 지정\n",
    "if os.name == 'nt' :\n",
    "    font_family = \"Malgun Gothic\"\n",
    "    \n",
    "# 값이 깨지는 문제 해결을 위해 파라미터값 설정\n",
    "sns.set(font=font_family, rc = {\"axes.unicode_minus\" : False})"
   ]
  },
  {
   "cell_type": "code",
   "execution_count": 5,
   "id": "b7e57bf5",
   "metadata": {},
   "outputs": [],
   "source": [
    "# 1) 데이터 생성\n",
    "np.random.seed(100)\n",
    "\n",
    "math_score = pd.DataFrame(np.random.randint(25, 101, size=500), columns=[\"점수\"])"
   ]
  },
  {
   "cell_type": "code",
   "execution_count": 7,
   "id": "a4802687",
   "metadata": {},
   "outputs": [
    {
     "data": {
      "text/html": [
       "<div>\n",
       "<style scoped>\n",
       "    .dataframe tbody tr th:only-of-type {\n",
       "        vertical-align: middle;\n",
       "    }\n",
       "\n",
       "    .dataframe tbody tr th {\n",
       "        vertical-align: top;\n",
       "    }\n",
       "\n",
       "    .dataframe thead th {\n",
       "        text-align: right;\n",
       "    }\n",
       "</style>\n",
       "<table border=\"1\" class=\"dataframe\">\n",
       "  <thead>\n",
       "    <tr style=\"text-align: right;\">\n",
       "      <th></th>\n",
       "      <th>점수</th>\n",
       "    </tr>\n",
       "  </thead>\n",
       "  <tbody>\n",
       "    <tr>\n",
       "      <th>count</th>\n",
       "      <td>500.000000</td>\n",
       "    </tr>\n",
       "    <tr>\n",
       "      <th>mean</th>\n",
       "      <td>61.580000</td>\n",
       "    </tr>\n",
       "    <tr>\n",
       "      <th>std</th>\n",
       "      <td>21.513374</td>\n",
       "    </tr>\n",
       "    <tr>\n",
       "      <th>min</th>\n",
       "      <td>25.000000</td>\n",
       "    </tr>\n",
       "    <tr>\n",
       "      <th>25%</th>\n",
       "      <td>42.000000</td>\n",
       "    </tr>\n",
       "    <tr>\n",
       "      <th>50%</th>\n",
       "      <td>62.500000</td>\n",
       "    </tr>\n",
       "    <tr>\n",
       "      <th>75%</th>\n",
       "      <td>79.000000</td>\n",
       "    </tr>\n",
       "    <tr>\n",
       "      <th>max</th>\n",
       "      <td>100.000000</td>\n",
       "    </tr>\n",
       "  </tbody>\n",
       "</table>\n",
       "</div>"
      ],
      "text/plain": [
       "               점수\n",
       "count  500.000000\n",
       "mean    61.580000\n",
       "std     21.513374\n",
       "min     25.000000\n",
       "25%     42.000000\n",
       "50%     62.500000\n",
       "75%     79.000000\n",
       "max    100.000000"
      ]
     },
     "execution_count": 7,
     "metadata": {},
     "output_type": "execute_result"
    }
   ],
   "source": [
    "# 2) 데이터 탐색\n",
    "# 요약정보\n",
    "math_score.describe()"
   ]
  },
  {
   "cell_type": "code",
   "execution_count": 9,
   "id": "e5786d3d",
   "metadata": {},
   "outputs": [
    {
     "data": {
      "text/plain": [
       "array([33, 49, 92, 73, 35])"
      ]
     },
     "execution_count": 9,
     "metadata": {},
     "output_type": "execute_result"
    }
   ],
   "source": [
    "# 데이터 확인\n",
    "scores = np.array(math_score['점수'])\n",
    "scores[:5]"
   ]
  },
  {
   "cell_type": "code",
   "execution_count": 12,
   "id": "398fc01e",
   "metadata": {},
   "outputs": [
    {
     "name": "stdout",
     "output_type": "stream",
     "text": [
      "[80 80 31 30 34 26 63 83 88 75 67 27 90 34 27 73 95 89 59 80]\n",
      "61.55\n",
      "615.5475\n",
      "24.810229745006392\n"
     ]
    }
   ],
   "source": [
    "# 20개 샘플 추출(복원추출)\n",
    "sample =  np.random.choice(scores,20)\n",
    "print(sample)\n",
    "print(sample.mean())\n",
    "print(sample.var())\n",
    "print(sample.std())"
   ]
  },
  {
   "cell_type": "code",
   "execution_count": 13,
   "id": "b85b35ec",
   "metadata": {},
   "outputs": [
    {
     "name": "stdout",
     "output_type": "stream",
     "text": [
      "1 표본평균 59.55\n",
      "2 표본평균 62.6\n",
      "3 표본평균 57.95\n",
      "4 표본평균 57.8\n",
      "5 표본평균 59.85\n",
      "6 표본평균 65.05\n",
      "7 표본평균 60.0\n",
      "8 표본평균 63.05\n",
      "9 표본평균 60.85\n",
      "10 표본평균 63.5\n"
     ]
    }
   ],
   "source": [
    "# 표본에 따라 평균 오차 확인\n",
    "for i in range(10):\n",
    "    sample1 = np.random.choice(scores, 20)\n",
    "    print(i+1,\"표본평균\", sample1.mean())"
   ]
  },
  {
   "cell_type": "code",
   "execution_count": 15,
   "id": "ec977886",
   "metadata": {},
   "outputs": [
    {
     "data": {
      "image/png": "[encoded data removed]",
      "text/plain": [
       "<Figure size 432x288 with 1 Axes>"
      ]
     },
     "metadata": {},
     "output_type": "display_data"
    }
   ],
   "source": [
    "# 모집단 데이터 분포 확인\n",
    "plt.xlabel('score')\n",
    "plt.ylabel('relative frequency')\n",
    "plt.hist(scores, bins=100, range=(0,100), density=True)\n",
    "plt.xlim(20,100)\n",
    "plt.show()"
   ]
  },
  {
   "cell_type": "code",
   "execution_count": 17,
   "id": "c7398a80",
   "metadata": {},
   "outputs": [],
   "source": [
    "# 샘플2 10000개 생성하여 분포 확인\n",
    "sample_score = np.random.choice(scores, 10000)"
   ]
  },
  {
   "cell_type": "code",
   "execution_count": 19,
   "id": "500dab1c",
   "metadata": {},
   "outputs": [
    {
     "data": {
      "image/png": "[encoded data removed]",
      "text/plain": [
       "<Figure size 432x288 with 1 Axes>"
      ]
     },
     "metadata": {},
     "output_type": "display_data"
    }
   ],
   "source": [
    "plt.hist(sample_score,bins=100, range=(0,100), density=True)\n",
    "plt.xlim(20,100)\n",
    "plt.show()"
   ]
  },
  {
   "cell_type": "code",
   "execution_count": 22,
   "id": "a6272a6e",
   "metadata": {},
   "outputs": [],
   "source": [
    "# 3) 모평균 점 추정\n",
    "# 20개(n)의 표본 100번 추출\n",
    "n=20\n",
    "nSample=100\n",
    "\n",
    "sample_mean = np.array([np.random.choice(scores,n,).mean() for _ in range(nSample)])"
   ]
  },
  {
   "cell_type": "code",
   "execution_count": 23,
   "id": "564cb854",
   "metadata": {},
   "outputs": [
    {
     "data": {
      "text/plain": [
       "array([57.4 , 56.75, 60.35, 55.15, 67.2 , 58.15, 64.15, 67.7 , 58.45,\n",
       "       58.1 , 60.5 , 58.3 , 63.2 , 65.  , 63.1 , 58.75, 70.2 , 61.3 ,\n",
       "       60.95, 55.4 , 62.25, 62.7 , 62.8 , 61.05, 71.3 , 56.8 , 73.4 ,\n",
       "       63.  , 63.15, 65.6 , 64.35, 61.55, 74.35, 51.85, 58.9 , 57.1 ,\n",
       "       57.1 , 52.8 , 65.8 , 68.9 , 62.75, 54.4 , 57.95, 62.7 , 60.15,\n",
       "       64.15, 61.4 , 71.75, 54.4 , 60.5 , 59.85, 57.3 , 61.3 , 55.95,\n",
       "       67.45, 62.45, 61.8 , 55.2 , 61.85, 71.1 , 62.85, 69.7 , 58.15,\n",
       "       49.75, 58.85, 67.2 , 67.5 , 68.65, 56.1 , 62.8 , 58.  , 57.75,\n",
       "       59.2 , 55.35, 67.5 , 56.9 , 59.3 , 67.15, 50.75, 63.4 , 72.2 ,\n",
       "       60.6 , 67.3 , 50.45, 69.55, 69.85, 63.1 , 62.1 , 64.8 , 70.7 ,\n",
       "       71.25, 58.9 , 63.9 , 62.65, 65.2 , 64.9 , 61.  , 55.7 , 66.4 ,\n",
       "       55.95])"
      ]
     },
     "execution_count": 23,
     "metadata": {},
     "output_type": "execute_result"
    }
   ],
   "source": [
    "# 표본평균 분포 확인\n",
    "sample_mean"
   ]
  },
  {
   "cell_type": "code",
   "execution_count": 24,
   "id": "3d9b9394",
   "metadata": {},
   "outputs": [
    {
     "name": "stdout",
     "output_type": "stream",
     "text": [
      "모평균 :  61.58\n",
      "표본평균의 평균: 61.925999999999995\n",
      "모분산/n : 23.09498\n",
      "표본평균의 분산 : 29.050024000000004\n",
      "표본평균의 표준편차 : 5.389807417709839\n",
      "표준오차 : 4.805723670790903\n"
     ]
    }
   ],
   "source": [
    "# 모평균\n",
    "print('모평균 : ', scores.mean())\n",
    "\n",
    "# 표본평균의 평균 <= 모집단을 모를 경우 표본평균이 모수로 추정\n",
    "print('표본평균의 평균:', sample_mean.mean())\n",
    "\n",
    "# 모분산/n\n",
    "print('모분산/n :', scores.var()/n)\n",
    "\n",
    "# 표본평균의 분산\n",
    "print('표본평균의 분산 :',sample_mean.var())\n",
    "\n",
    "# 펴본평균ㄴ의 편차\n",
    "print('표본평균의 표준편차 :', sample_mean.std())\n",
    "\n",
    "# 표준오차 : standard error of the mean\n",
    "print('표준오차 :', scores.std()/math.sqrt(n))"
   ]
  }
 ],
 "metadata": {
  "kernelspec": {
   "display_name": "test",
   "language": "python",
   "name": "test"
  },
  "language_info": {
   "codemirror_mode": {
    "name": "ipython",
    "version": 3
   },
   "file_extension": ".py",
   "mimetype": "text/x-python",
   "name": "python",
   "nbconvert_exporter": "python",
   "pygments_lexer": "ipython3",
   "version": "3.6.13"
  }
 },
 "nbformat": 4,
 "nbformat_minor": 5
}
