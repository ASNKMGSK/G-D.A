{
 "cells": [
  {
   "cell_type": "code",
   "execution_count": 1,
   "metadata": {},
   "outputs": [],
   "source": [
    "import re\n",
    "import sqlite3\n",
    "from urllib.request import urlopen\n",
    "from html import unescape"
   ]
  },
  {
   "cell_type": "code",
   "execution_count": 2,
   "metadata": {},
   "outputs": [],
   "source": [
    "def main():\n",
    "    \"\"\"\n",
    "    메인 처리\n",
    "    fetch(), scrape(), save() 함수를 호출\n",
    "    \"\"\"\n",
    "    html = fetch('http://www.hanbit.co.kr/store/books/full_book_list.html')\n",
    "    books = scrape(html)\n",
    "    save('books.db', books)"
   ]
  },
  {
   "cell_type": "code",
   "execution_count": 3,
   "metadata": {},
   "outputs": [],
   "source": [
    "def fetch(url):\n",
    "    \"\"\"\n",
    "    매개변수로 전달받을 url을 기반으로 웹 페이지를 추출\n",
    "    웹 페이지의 Content-Type 헤더를 통해 인코딩 형식 확인\n",
    "    반환값: str 자료형의 HTML\n",
    "    \"\"\"\n",
    "    f = urlopen(url)\n",
    "    # HTTP 헤더를 기반으로 인코딩 형식 추출\n",
    "    encoding = f.info().get_content_charset(failobj=\"utf-8\")\n",
    "    # 추출한 인코딩 형식을 기반으로 문자열 디코딩\n",
    "    html = f.read().decode(encoding)\n",
    "    return html"
   ]
  },
  {
   "cell_type": "code",
   "execution_count": 4,
   "metadata": {},
   "outputs": [],
   "source": [
    "def scrape(html):\n",
    "    \"\"\"\n",
    "    매개변수 html로 받은 HTML을 기반으로 정규 표현식을 사용해 도서 정보를 추출합니다.\n",
    "    반환값: 도서(dict) 리스트\n",
    "    \"\"\"\n",
    "    books = []\n",
    "    # re.findall()을 사용해 도서 하나에 해당하는 HTML을 추출\n",
    "    for partial_html in re.findall(r'<td class=\"left\"><a.*?</td>', html, re.DOTALL):\n",
    "        # 도서의 URL을 추출\n",
    "        url = re.search(r'<a href=\"(.*?)\">', partial_html).group(1)\n",
    "        url = 'http://www.hanbit.co.kr' + url\n",
    "        # 태그를 제거해서 도서의 제목 추출\n",
    "        title = re.sub(r'<.*?>', '', partial_html)\n",
    "        title = unescape(title)\n",
    "        books.append({'url': url, 'title': title})\n",
    "    \n",
    "    return books"
   ]
  },
  {
   "cell_type": "code",
   "execution_count": 5,
   "metadata": {},
   "outputs": [],
   "source": [
    "def save(db_path, books):\n",
    "    \"\"\"\n",
    "    매개변수 books로 전달된 도서 목록을 SQLite 데이터베이스에 저장\n",
    "    데이터베이스의 경로는 매개변수 dp_path로 지정\n",
    "    반환값: None(없음)\n",
    "    \"\"\"\n",
    "    # DB Connection\n",
    "    conn = sqlite3.connect(db_path)\n",
    "    # 커서 추출\n",
    "    c = conn.cursor()\n",
    "    # execute() 메서드로 SQL을 실행\n",
    "    # 스크립트를 여러 번 실행할 수 있으므로 기존의 books 테이블을 제거\n",
    "    c.execute('DROP TABLE IF EXISTS books')\n",
    "    # books 테이블을 생성합니다.\n",
    "    c.execute('''\n",
    "        CREATE TABLE books (\n",
    "            title text,\n",
    "            url text\n",
    "        )\n",
    "    ''')\n",
    "    # executemany() 메서드를 사용하면 매개변수로 리스트를 지정\n",
    "    c.executemany('INSERT INTO books VALUES (:title, :url)', books)\n",
    "    # 변경사항을 커밋\n",
    "    conn.commit()\n",
    "    # DB Connection 종료\n",
    "    conn.close()"
   ]
  },
  {
   "cell_type": "code",
   "execution_count": 6,
   "metadata": {},
   "outputs": [],
   "source": [
    "# python 명령어로 실행한 경우 main() 함수를 호출\n",
    "# 모듈로써 다른 파일에서 읽어 들였을 때 main() 함수가 호출되지 않도록 함\n",
    "# 파이썬 프로그램의 일반적인 작성 방식\n",
    "if __name__ == '__main__':\n",
    "    main()"
   ]
  },
  {
   "cell_type": "code",
   "execution_count": 7,
   "metadata": {},
   "outputs": [
    {
     "name": "stdout",
     "output_type": "stream",
     "text": [
      "('받침 없는 한글 동화 : 무시무시 마녀가 이사 와!', 'http://www.hanbit.co.kr/store/books/look.php?p_code=B8661740335')\n",
      "('받침 없는 한글 동화 : 도, 도, 도깨비다!', 'http://www.hanbit.co.kr/store/books/look.php?p_code=B6084607806')\n",
      "('받침 없는 한글 동화 : 바쁘다 바빠 너구리 바빠', 'http://www.hanbit.co.kr/store/books/look.php?p_code=B1382037871')\n",
      "('받침 없는 한글 동화 : 도깨비 파자마 파티', 'http://www.hanbit.co.kr/store/books/look.php?p_code=B8948111854')\n",
      "('받침 없는 한글 동화 : 4권 세트', 'http://www.hanbit.co.kr/store/books/look.php?p_code=B3178834938')\n",
      "('오늘도 시작하지 못하는 당신을 위해', 'http://www.hanbit.co.kr/store/books/look.php?p_code=B4162156367')\n",
      "('IT CookBook, 원리로 이해하는 전력전자공학(2판)', 'http://www.hanbit.co.kr/store/books/look.php?p_code=B5156679966')\n",
      "('트러스트', 'http://www.hanbit.co.kr/store/books/look.php?p_code=B6189263297')\n",
      "('리얼 싱가포르 [2022~2023 최신판]', 'http://www.hanbit.co.kr/store/books/look.php?p_code=B8806843023')\n",
      "('구글 앱스 스크립트 완벽 가이드', 'http://www.hanbit.co.kr/store/books/look.php?p_code=B4813114979')\n",
      "('원소 이야기', 'http://www.hanbit.co.kr/store/books/look.php?p_code=B2859439220')\n",
      "('핸즈온 데이터 시각화', 'http://www.hanbit.co.kr/store/books/look.php?p_code=B1996635146')\n",
      "('생각하는 힘이 붙는 첫 숨은그림찾기', 'http://www.hanbit.co.kr/store/books/look.php?p_code=B4354575770')\n",
      "('IT CookBook, TCP/IP 소켓 프로그래밍(2판)', 'http://www.hanbit.co.kr/store/books/look.php?p_code=B9063949643')\n",
      "('파이썬을 활용한 베이지안 통계(2판)', 'http://www.hanbit.co.kr/store/books/look.php?p_code=B7798657798')\n",
      "('인피니티', 'http://www.hanbit.co.kr/store/books/look.php?p_code=B5171715268')\n",
      "('IT CookBook, 쉽게 배우는 데이터 통신과 컴퓨터 네트워크(3판)', 'http://www.hanbit.co.kr/store/books/look.php?p_code=B7400451696')\n",
      "('IT CookBook, 우분투 리눅스(3판)', 'http://www.hanbit.co.kr/store/books/look.php?p_code=B6129400746')\n",
      "('실용적 접근 방식의 경영학원론(10판)', 'http://www.hanbit.co.kr/store/books/look.php?p_code=B1959656080')\n",
      "('거시경제학(3판)', 'http://www.hanbit.co.kr/store/books/look.php?p_code=B7738896383')\n",
      "('비즈니스 데이터 과학', 'http://www.hanbit.co.kr/store/books/look.php?p_code=B6001875802')\n",
      "('혼자 해도 프로 작가처럼 잘 그리는 아이패드 드로잉 with 프로크리에이트', 'http://www.hanbit.co.kr/store/books/look.php?p_code=B6361762764')\n",
      "('IT CookBook, C로 시작하는 컴퓨터 프로그래밍(4판)', 'http://www.hanbit.co.kr/store/books/look.php?p_code=B4947312430')\n",
      "('IT CookBook, 인터넷 해킹과 보안(4판)', 'http://www.hanbit.co.kr/store/books/look.php?p_code=B1393628384')\n",
      "('리얼 뉴질랜드 [2022~2023 최신판]', 'http://www.hanbit.co.kr/store/books/look.php?p_code=B7718726335')\n",
      "('IT CookBook, 파이썬 데이터 분석 for Beginner', 'http://www.hanbit.co.kr/store/books/look.php?p_code=B9597680767')\n",
      "('IT CookBook, 엑셀 2019', 'http://www.hanbit.co.kr/store/books/look.php?p_code=B7792763682')\n",
      "('쉽게 따라하는 NFT 마스터 가이드', 'http://www.hanbit.co.kr/store/books/look.php?p_code=B8676970090')\n",
      "('오늘부터 팀장입니다', 'http://www.hanbit.co.kr/store/books/look.php?p_code=B2119731751')\n",
      "('IT CookBook, 소프트웨어 공학 이론과 실제', 'http://www.hanbit.co.kr/store/books/look.php?p_code=B5067324775')\n",
      "('회사에서 바로 통하는 파워포인트 FOR STARTERS(개정판)', 'http://www.hanbit.co.kr/store/books/look.php?p_code=B9071173699')\n",
      "('회사에서 바로 통하는 엑셀 FOR STARTERS(개정판)', 'http://www.hanbit.co.kr/store/books/look.php?p_code=B3501358503')\n",
      "('초등 공부 습관 바이블: 똑같이 하는데 탁월한 결과를 내는 아이는 무엇이 다를까?', 'http://www.hanbit.co.kr/store/books/look.php?p_code=B2835837863')\n",
      "('이그노벨상 읽어드립니다', 'http://www.hanbit.co.kr/store/books/look.php?p_code=B9503831552')\n",
      "('공학도라면 반드시 알아야 할 최소한의 수학(8판)', 'http://www.hanbit.co.kr/store/books/look.php?p_code=B2247981475')\n",
      "('기업의 성공을 이끄는 Developer Relations', 'http://www.hanbit.co.kr/store/books/look.php?p_code=B9102351881')\n",
      "('사례 분석으로 배우는 데이터 시각화', 'http://www.hanbit.co.kr/store/books/look.php?p_code=B5825921855')\n",
      "('클라우드 네이티브 애플리케이션 디자인 패턴', 'http://www.hanbit.co.kr/store/books/look.php?p_code=B3886303135')\n",
      "('변화하는 세계 질서', 'http://www.hanbit.co.kr/store/books/look.php?p_code=B7422209817')\n",
      "('혼자 공부하는파이썬(개정판)', 'http://www.hanbit.co.kr/store/books/look.php?p_code=B1681646737')\n",
      "('아이주도이유식 레시피북(개정판)', 'http://www.hanbit.co.kr/store/books/look.php?p_code=B1355665429')\n",
      "('소문난 명강의 : 소플의 처음 만난 리액트', 'http://www.hanbit.co.kr/store/books/look.php?p_code=B9365371874')\n",
      "('적정 소프트웨어 아키텍처', 'http://www.hanbit.co.kr/store/books/look.php?p_code=B6059097161')\n",
      "('리얼 호주 [2022~2023 최신판]', 'http://www.hanbit.co.kr/store/books/look.php?p_code=B6562895528')\n",
      "('회사에서 바로 통하는 실무 엑셀+파워포인트+워드&한글(모든 버전 사용 가능, 개정판)', 'http://www.hanbit.co.kr/store/books/look.php?p_code=B5594567896')\n",
      "('혼자 공부하는 얄팍한 코딩 지식', 'http://www.hanbit.co.kr/store/books/look.php?p_code=B2317469552')\n",
      "('똑똑한 코드 작성을 위한 실전 알고리즘', 'http://www.hanbit.co.kr/store/books/look.php?p_code=B3563253053')\n",
      "('IT CookBook, UI/UX 디자인 이론과 실무 with 어도비 XD', 'http://www.hanbit.co.kr/store/books/look.php?p_code=B4622884510')\n",
      "('때려치우기의 기술', 'http://www.hanbit.co.kr/store/books/look.php?p_code=B7975223427')\n",
      "('완성된 웹사이트로 배우는 HTML&CSS 웹 디자인', 'http://www.hanbit.co.kr/store/books/look.php?p_code=B9882279606')\n"
     ]
    }
   ],
   "source": [
    "# 저장된 내용 확인\n",
    "with sqlite3.connect('books.db') as conn:\n",
    "    c = conn.cursor()\n",
    "    c.execute('SELECT * FROM books')\n",
    "    for row in c.fetchall():\n",
    "        print(row)"
   ]
  }
 ],
 "metadata": {
  "kernelspec": {
   "display_name": "test",
   "language": "python",
   "name": "test"
  },
  "language_info": {
   "codemirror_mode": {
    "name": "ipython",
    "version": 3
   },
   "file_extension": ".py",
   "mimetype": "text/x-python",
   "name": "python",
   "nbconvert_exporter": "python",
   "pygments_lexer": "ipython3",
   "version": "3.6.13"
  }
 },
 "nbformat": 4,
 "nbformat_minor": 4
}
